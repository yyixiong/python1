{
 "metadata": {
  "name": "",
  "signature": "sha256:e0cb8cd222a181fc65b41a7c08ff1751f1e86d03b01f20b29787db6c36b2859f"
 },
 "nbformat": 3,
 "nbformat_minor": 0,
 "worksheets": [
  {
   "cells": [
    {
     "cell_type": "code",
     "collapsed": false,
     "input": [
      "from twython import Twython\n",
      "import json\n",
      "import datetime"
     ],
     "language": "python",
     "metadata": {},
     "outputs": [],
     "prompt_number": 1
    },
    {
     "cell_type": "code",
     "collapsed": false,
     "input": [
      "##codes to access twitter API. \n",
      "APP_KEY = \"6TqfiOc41Fn1On3m47Fts9X7P\"\n",
      "APP_SECRET =\"WsxD5B2xgtC8BhVtSr2rINKKHYNk0MQNo4zM9aeKkbHTtOkpNx\"\n",
      "OAUTH_TOKEN =\"4832117985-MsoZzHTUZ2JKHtcIdbimqv7vl3WgH6My7dHc6Yb\"\n",
      "OAUTH_TOKEN_SECRET = \"IBVxENWrOjMDn1YUlBP3ZKdyUkmMt1ULGkKbnHCmdDQRA\"\n",
      "\n",
      "##initiating Twython object \n",
      "twitter = Twython(APP_KEY, APP_SECRET, OAUTH_TOKEN, OAUTH_TOKEN_SECRET)"
     ],
     "language": "python",
     "metadata": {},
     "outputs": [],
     "prompt_number": 6
    },
    {
     "cell_type": "code",
     "collapsed": false,
     "input": [
      "search_results = twitter.search(q='#amsterdam', count=1)\n",
      "\n",
      "\n",
      "for result in search_results['statuses']:\n",
      "    print result"
     ],
     "language": "python",
     "metadata": {},
     "outputs": [
      {
       "output_type": "stream",
       "stream": "stdout",
       "text": [
        "{u'contributors': None, u'truncated': False, u'text': u'Er b\\xfai\\xf0 a\\xf0 panta mi\\xf0ana? #Amsterdam #Holland #h\\xe1t\\xed\\xf0ir #koninginnedag #fer\\xf0ir #fer\\xf0al\\xf6g #\\xf3d\\xfdrgisting #\\xf3d\\xfdrh\\xf3tel... https://t.co/Pvcl9U9wN9', u'is_quote_status': False, u'in_reply_to_status_id': None, u'id': 690113760820891648L, u'favorite_count': 0, u'source': u'<a href=\"http://www.facebook.com/twitter\" rel=\"nofollow\">Facebook</a>', u'retweeted': False, u'coordinates': None, u'entities': {u'symbols': [], u'user_mentions': [], u'hashtags': [{u'indices': [25, 35], u'text': u'Amsterdam'}, {u'indices': [36, 44], u'text': u'Holland'}, {u'indices': [45, 53], u'text': u'h\\xe1t\\xed\\xf0ir'}, {u'indices': [54, 68], u'text': u'koninginnedag'}, {u'indices': [69, 76], u'text': u'fer\\xf0ir'}, {u'indices': [77, 86], u'text': u'fer\\xf0al\\xf6g'}, {u'indices': [87, 99], u'text': u'\\xf3d\\xfdrgisting'}, {u'indices': [100, 110], u'text': u'\\xf3d\\xfdrh\\xf3tel'}], u'urls': [{u'url': u'https://t.co/Pvcl9U9wN9', u'indices': [114, 137], u'expanded_url': u'http://fb.me/4hRRjvtRp', u'display_url': u'fb.me/4hRRjvtRp'}]}, u'in_reply_to_screen_name': None, u'in_reply_to_user_id': None, u'retweet_count': 0, u'id_str': u'690113760820891648', u'favorited': False, u'user': {u'follow_request_sent': None, u'has_extended_profile': False, u'profile_use_background_image': False, u'default_profile_image': False, u'id': 34959250, u'profile_background_image_url_https': u'https://abs.twimg.com/images/themes/theme6/bg.gif', u'verified': False, u'profile_text_color': u'333333', u'profile_image_url_https': u'https://pbs.twimg.com/profile_images/378800000680322958/afcd9ca80f4a1965512a06f6c2a4ac40_normal.png', u'profile_sidebar_fill_color': u'339499', u'entities': {u'url': {u'urls': [{u'url': u'http://t.co/OEgDWMld', u'indices': [0, 20], u'expanded_url': u'http://fararheill.is', u'display_url': u'fararheill.is'}]}, u'description': {u'urls': []}}, u'followers_count': 136, u'profile_sidebar_border_color': u'86A4A6', u'id_str': u'34959250', u'profile_background_color': u'709397', u'listed_count': 46, u'is_translation_enabled': False, u'utc_offset': 0, u'statuses_count': 7504, u'description': u'Allt um fer\\xf0ir og fer\\xf0al\\xf6g', u'friends_count': 36, u'location': u'Iceland', u'profile_link_color': u'93D7D1', u'profile_image_url': u'http://pbs.twimg.com/profile_images/378800000680322958/afcd9ca80f4a1965512a06f6c2a4ac40_normal.png', u'following': None, u'geo_enabled': False, u'profile_background_image_url': u'http://abs.twimg.com/images/themes/theme6/bg.gif', u'screen_name': u'Fararheill', u'lang': u'en', u'profile_background_tile': False, u'favourites_count': 0, u'name': u'Fararheill.is', u'notifications': None, u'url': u'http://t.co/OEgDWMld', u'created_at': u'Fri Apr 24 15:50:54 +0000 2009', u'contributors_enabled': False, u'time_zone': u'London', u'protected': False, u'default_profile': False, u'is_translator': False}, u'geo': None, u'in_reply_to_user_id_str': None, u'possibly_sensitive': False, u'lang': u'is', u'created_at': u'Thu Jan 21 10:08:36 +0000 2016', u'in_reply_to_status_id_str': None, u'place': None, u'metadata': {u'iso_language_code': u'is', u'result_type': u'recent'}}\n"
       ]
      }
     ],
     "prompt_number": 3
    },
    {
     "cell_type": "code",
     "collapsed": false,
     "input": [
      "for tweet in search_results[\"statuses\"]:\n",
      "    username =  tweet['user']['screen_name']\n",
      "    followers_count =  tweet['user']['followers_count']\n",
      "    tweettext = tweet['text']\n",
      "    if tweet['place'] != None:\n",
      "        full_place_name = tweet['place']['full_name']\n",
      "        place_type =  tweet['place']['place_type']    \n",
      "    coordinates = tweet['coordinates']\n",
      "    if coordinates != None:\n",
      "        print 'oki'\n",
      "        #do it yourself: enter code her to pull out coordinate     \n",
      "    print username\n",
      "    print followers_count\n",
      "    print tweettext\n",
      "    #add some some output statements that print lat lon if present\n",
      "    print '==========================='"
     ],
     "language": "python",
     "metadata": {},
     "outputs": [
      {
       "output_type": "stream",
       "stream": "stdout",
       "text": [
        "Fararheill\n",
        "136\n",
        "Er b\u00fai\u00f0 a\u00f0 panta mi\u00f0ana? #Amsterdam #Holland #h\u00e1t\u00ed\u00f0ir #koninginnedag #fer\u00f0ir #fer\u00f0al\u00f6g #\u00f3d\u00fdrgisting #\u00f3d\u00fdrh\u00f3tel... https://t.co/Pvcl9U9wN9\n",
        "===========================\n"
       ]
      }
     ],
     "prompt_number": 4
    },
    {
     "cell_type": "code",
     "collapsed": false,
     "input": [
      "output_file = 'result.csv' \n",
      "\n",
      "\n",
      "target = open(output_file, 'a')\n",
      "\n",
      "\n",
      "target.write(username) # t is \n",
      "target.write('\\n') #produce a tab delimited file\n",
      "target.close()"
     ],
     "language": "python",
     "metadata": {},
     "outputs": [],
     "prompt_number": 5
    },
    {
     "cell_type": "code",
     "collapsed": false,
     "input": [],
     "language": "python",
     "metadata": {},
     "outputs": []
    }
   ],
   "metadata": {}
  }
 ]
}